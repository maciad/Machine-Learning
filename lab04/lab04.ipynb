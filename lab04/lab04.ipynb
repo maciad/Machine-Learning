{
 "cells": [
  {
   "cell_type": "code",
   "execution_count": null,
   "id": "fe8b6b8c-135a-4028-b279-8c34b7d85eb1",
   "metadata": {
    "tags": []
   },
   "outputs": [],
   "source": [
    "import pandas as pd\n",
    "import numpy as np\n",
    "import pickle\n",
    "from sklearn import datasets\n",
    "from sklearn.model_selection import train_test_split\n",
    "from sklearn.pipeline import Pipeline\n",
    "from sklearn.preprocessing import StandardScaler\n",
    "from sklearn.svm import LinearSVC"
   ]
  },
  {
   "cell_type": "code",
   "execution_count": null,
   "id": "e661f028-8012-4da4-afb9-fa85d3532a0c",
   "metadata": {
    "tags": []
   },
   "outputs": [],
   "source": [
    "breast_cancer = datasets.load_breast_cancer(as_frame=True)\n",
    "iris = datasets.load_iris(as_frame=True)"
   ]
  },
  {
   "cell_type": "code",
   "execution_count": null,
   "id": "76ba61b7-0368-4a0b-b826-a4fcac810132",
   "metadata": {
    "tags": []
   },
   "outputs": [],
   "source": [
    "X_train_i, X_test_i, y_train_i, y_test_i = train_test_split(\n",
    "    iris.data.iloc[:,[2,3]], iris.target, test_size=0.2)\n",
    "X_train_bc, X_test_bc, y_train_bc, y_test_bc = train_test_split(\n",
    "    breast_cancer.data.iloc[:, [3,4]],\n",
    "    breast_cancer.target, test_size=0.2)"
   ]
  },
  {
   "cell_type": "code",
   "execution_count": null,
   "id": "27459775-4178-4d60-97e3-166dd58e7fa1",
   "metadata": {
    "tags": []
   },
   "outputs": [],
   "source": [
    "svm_clf_bc = LinearSVC(C=1, loss='hinge')\n",
    "svm_clf_scaled_bc = Pipeline([('scaler', StandardScaler()),\n",
    "                              ('linear_svc', LinearSVC(C=1, \n",
    "                                                    loss='hinge'))])\n",
    "svm_clf_bc.fit(X_train_bc, y_train_bc)\n",
    "svm_clf_scaled_bc.fit(X_train_bc, y_train_bc)"
   ]
  },
  {
   "cell_type": "code",
   "execution_count": null,
   "id": "10d3f431-d24f-4ca5-9047-cb11626ad135",
   "metadata": {
    "tags": []
   },
   "outputs": [],
   "source": [
    "score_train_bc = svm_clf_bc.score(X_train_bc, y_train_bc)\n",
    "score_test_bc = svm_clf_bc.score(X_test_bc, y_test_bc)\n",
    "score_train_bc_scaled = svm_clf_scaled_bc.score(X_train_bc, y_train_bc)\n",
    "score_test_bc_scaled = svm_clf_scaled_bc.score(X_test_bc, y_test_bc)"
   ]
  },
  {
   "cell_type": "code",
   "execution_count": null,
   "id": "a400c25c-c340-4959-9a2f-6ef70c8684c1",
   "metadata": {
    "tags": []
   },
   "outputs": [],
   "source": [
    "accuracy_bc = [score_train_bc, score_test_bc,\n",
    "               score_train_bc_scaled, score_test_bc_scaled]"
   ]
  },
  {
   "cell_type": "code",
   "execution_count": null,
   "id": "c4190dbe-9993-457f-b2fa-f98fc5ef1800",
   "metadata": {
    "tags": []
   },
   "outputs": [],
   "source": [
    "with open('bc_acc.pkl', 'wb') as file:\n",
    "    pickle.dump(accuracy_bc, file)"
   ]
  },
  {
   "cell_type": "code",
   "execution_count": null,
   "id": "f5096852-42d5-4132-b5ae-9369e170d757",
   "metadata": {
    "tags": []
   },
   "outputs": [],
   "source": [
    "svm_clf_i = LinearSVC(C=1, loss='hinge')\n",
    "svm_clf_scaled_i = Pipeline([('scaler', StandardScaler()),\n",
    "                      ('linear_svc', LinearSVC(C=1,\n",
    "                                               loss='hinge'))])\n",
    "svm_clf_i.fit(X_train_i, y_train_i)\n",
    "svm_clf_scaled_i.fit(X_train_i, y_train_i)"
   ]
  },
  {
   "cell_type": "code",
   "execution_count": null,
   "id": "0452dd8a-e6a1-4753-b69d-4cecda703473",
   "metadata": {
    "tags": []
   },
   "outputs": [],
   "source": [
    "score_train_i = svm_clf_i.score(X_train_i, y_train_i)\n",
    "score_test_i = svm_clf_i.score(X_test_i, y_test_i)\n",
    "score_train_i_scaled = svm_clf_scaled_i.score(X_train_i, y_train_i)\n",
    "score_test_i_scaled = svm_clf_scaled_i.score(X_test_i, y_test_i)"
   ]
  },
  {
   "cell_type": "code",
   "execution_count": null,
   "id": "17b6f92b-dba4-4f9d-b2d4-eaf73d4f1ad5",
   "metadata": {
    "tags": []
   },
   "outputs": [],
   "source": [
    "accuracy_i = [score_train_i, score_test_i,\n",
    "              score_train_i_scaled, score_test_i_scaled]"
   ]
  },
  {
   "cell_type": "code",
   "execution_count": null,
   "id": "77cbd1b3-976c-4c9e-bee1-b362d3a61342",
   "metadata": {
    "tags": []
   },
   "outputs": [],
   "source": [
    "with open('iris_acc.pkl', 'wb') as file2:\n",
    "    pickle.dump(accuracy_i, file2)"
   ]
  }
 ],
 "metadata": {
  "kernelspec": {
   "display_name": "Python 3 (ipykernel)",
   "language": "python",
   "name": "python3"
  },
  "language_info": {
   "codemirror_mode": {
    "name": "ipython",
    "version": 3
   },
   "file_extension": ".py",
   "mimetype": "text/x-python",
   "name": "python",
   "nbconvert_exporter": "python",
   "pygments_lexer": "ipython3",
   "version": "3.9.16"
  }
 },
 "nbformat": 4,
 "nbformat_minor": 5
}
