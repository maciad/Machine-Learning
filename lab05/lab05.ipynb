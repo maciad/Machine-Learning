{
 "cells": [
  {
   "cell_type": "code",
   "execution_count": null,
   "id": "12d9548c-40bc-410c-99ec-5824af191793",
   "metadata": {
    "tags": []
   },
   "outputs": [],
   "source": [
    "import pandas as pd\n",
    "import numpy as np\n",
    "import matplotlib.pyplot as plt\n",
    "import pickle\n",
    "import os\n",
    "import graphviz\n",
    "from sklearn.tree import export_graphviz\n",
    "from sklearn import datasets\n",
    "from sklearn.metrics import f1_score\n",
    "from sklearn.tree import DecisionTreeClassifier\n",
    "from sklearn.tree import DecisionTreeRegressor\n",
    "from sklearn.model_selection import train_test_split\n",
    "from sklearn.metrics import mean_squared_error"
   ]
  },
  {
   "cell_type": "markdown",
   "id": "2013ca69-4166-4eea-9192-9c33b5289299",
   "metadata": {},
   "source": [
    "## Przygotowanie danych"
   ]
  },
  {
   "cell_type": "code",
   "execution_count": null,
   "id": "e2ea1b88-e3bb-4d65-8ac9-41dbe61cbe23",
   "metadata": {
    "tags": []
   },
   "outputs": [],
   "source": [
    "bc = datasets.load_breast_cancer(as_frame=True)\n",
    "\n",
    "X_train, X_test, y_train, y_test = train_test_split(\n",
    "    bc.data[['mean texture', 'mean symmetry']], bc.target, test_size=0.2)"
   ]
  },
  {
   "cell_type": "code",
   "execution_count": null,
   "id": "bfc3a757-e073-4264-9b7d-8a3238127e62",
   "metadata": {
    "tags": []
   },
   "outputs": [],
   "source": [
    "size = 300\n",
    "X2 = np.random.rand(size) * 5 - 2.5\n",
    "w4, w3, w2, w1, w0 = 1, 2, 1, -4, 2\n",
    "y2 = w4*(X2**4) + w3*(X2**3) + w2*(X2**2) + w1*X2 + w0 + np.random.randn(size)*8-4\n",
    "df = pd.DataFrame({'x': X2, 'y': y2})\n",
    "# df.plot.scatter(x='x', y='y')\n",
    "\n",
    "X2_train, X2_test, y2_train, y2_test = train_test_split(\n",
    "    X2, y2, test_size=0.2)"
   ]
  },
  {
   "cell_type": "markdown",
   "id": "ee5dd835-6313-4c43-8f3a-cb20a553e7ce",
   "metadata": {
    "tags": []
   },
   "source": [
    "## Zadanie 3"
   ]
  },
  {
   "cell_type": "code",
   "execution_count": null,
   "id": "498b2496-fbbb-4957-abe7-2ed34eabb801",
   "metadata": {
    "tags": []
   },
   "outputs": [],
   "source": [
    "tree_clf = DecisionTreeClassifier(max_depth=3)\n",
    "tree_clf.fit(X_train, y_train)"
   ]
  },
  {
   "cell_type": "code",
   "execution_count": null,
   "id": "ab98e56e-a689-4a58-806d-80c6c11e4848",
   "metadata": {
    "tags": []
   },
   "outputs": [],
   "source": [
    "graph_file = 'bc'\n",
    "graph_dot = export_graphviz(\n",
    "    tree_clf,\n",
    "    out_file=graph_file,\n",
    "    feature_names = ['mean texture', 'mean symmetry'],\n",
    "    class_names=bc.target_names,\n",
    "    rounded=True,\n",
    "    filled=True)\n",
    "\n",
    "# graph = graphviz.Source(graph_dot)\n",
    "graphviz.render('dot', 'png', graph_file)\n",
    "os.remove('bc')"
   ]
  },
  {
   "cell_type": "code",
   "execution_count": null,
   "id": "1abe8562-98d0-46ce-b05c-5db9a1b0c522",
   "metadata": {
    "tags": []
   },
   "outputs": [],
   "source": [
    "y_pred_train = tree_clf.predict(X_train)\n",
    "y_pred_test = tree_clf.predict(X_test)\n",
    "\n",
    "f1_score_train = f1_score(y_train, y_pred_train)\n",
    "f1_score_test = f1_score(y_test, y_pred_test)\n",
    "acc_train = tree_clf.score(X_train, y_train)\n",
    "acc_test = tree_clf.score(X_test, y_test)"
   ]
  },
  {
   "cell_type": "code",
   "execution_count": null,
   "id": "36680b9c-754d-4dc7-9cd8-567595fc0ac5",
   "metadata": {
    "tags": []
   },
   "outputs": [],
   "source": [
    "output = [tree_clf.max_depth, f1_score_train, f1_score_test,\n",
    "          acc_train, acc_test]\n",
    "with open('f1acc_tree.pkl', 'wb') as f:\n",
    "    pickle.dump(output, f)"
   ]
  },
  {
   "cell_type": "markdown",
   "id": "f5cb168f-d815-409b-96b7-8449fe3fe03e",
   "metadata": {},
   "source": [
    "## zadanie 4"
   ]
  },
  {
   "cell_type": "code",
   "execution_count": null,
   "id": "dc1c97c0-4234-4bdd-901b-4552e3d07bfa",
   "metadata": {
    "tags": []
   },
   "outputs": [],
   "source": [
    "tree_reg = DecisionTreeRegressor(max_depth=4)\n",
    "tree_reg.fit(X2_train.reshape(-1, 1), y2_train)"
   ]
  },
  {
   "cell_type": "code",
   "execution_count": null,
   "id": "7a55e9ec-e6dc-4b7f-b04d-4833c71e3c18",
   "metadata": {
    "tags": []
   },
   "outputs": [],
   "source": [
    "y2_pred = tree_reg.predict(X2.reshape(-1, 1))\n",
    "plt.scatter(X2_train, y2_train)\n",
    "plt.plot(X2, y2_pred, 'o', color='red')\n",
    "plt.show()"
   ]
  },
  {
   "cell_type": "code",
   "execution_count": null,
   "id": "8d143cad-649d-480a-9d45-7e4c9742e439",
   "metadata": {
    "tags": []
   },
   "outputs": [],
   "source": [
    "graph2_file = 'reg'\n",
    "graph2_dot = export_graphviz(\n",
    "    tree_reg,\n",
    "    out_file=graph2_file,\n",
    "    feature_names = ['x'],\n",
    "    rounded=True,\n",
    "    filled=True)\n",
    "\n",
    "# graph = graphviz.Source(graph_dot)\n",
    "graphviz.render('dot', 'png', graph2_file)\n",
    "os.remove('reg')"
   ]
  },
  {
   "cell_type": "code",
   "execution_count": null,
   "id": "9a9b77fd-7daa-4ed6-bd71-274c9200acd5",
   "metadata": {
    "tags": []
   },
   "outputs": [],
   "source": [
    "y2_pred_train = tree_reg.predict(X2_train.reshape(-1, 1))\n",
    "y2_pred_test = tree_reg.predict(X2_test.reshape(-1, 1))\n",
    "\n",
    "mse_train = mean_squared_error(y2_train, y2_pred_train)\n",
    "mse_test = mean_squared_error(y2_test, y2_pred_test)"
   ]
  },
  {
   "cell_type": "code",
   "execution_count": null,
   "id": "711bf3bd-df31-4799-951b-b71db071b09c",
   "metadata": {
    "tags": []
   },
   "outputs": [],
   "source": [
    "output2 = [tree_reg.max_depth, mse_train, mse_test]\n",
    "\n",
    "with open('mse_tree.pkl', 'wb') as f:\n",
    "    pickle.dump(output2, f)"
   ]
  }
 ],
 "metadata": {
  "kernelspec": {
   "display_name": "Python 3 (ipykernel)",
   "language": "python",
   "name": "python3"
  },
  "language_info": {
   "codemirror_mode": {
    "name": "ipython",
    "version": 3
   },
   "file_extension": ".py",
   "mimetype": "text/x-python",
   "name": "python",
   "nbconvert_exporter": "python",
   "pygments_lexer": "ipython3",
   "version": "3.9.16"
  }
 },
 "nbformat": 4,
 "nbformat_minor": 5
}
