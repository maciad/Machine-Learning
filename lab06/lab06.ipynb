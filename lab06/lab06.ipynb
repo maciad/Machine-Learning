{
 "cells": [
  {
   "cell_type": "code",
   "execution_count": 1,
   "id": "f12ee028-b0e6-4278-ae7a-5746554033fb",
   "metadata": {
    "tags": []
   },
   "outputs": [],
   "source": [
    "import pandas as pd\n",
    "from sklearn import datasets\n",
    "import pickle\n",
    "from sklearn.model_selection import train_test_split\n",
    "from sklearn.ensemble import RandomForestClassifier\n",
    "from sklearn.ensemble import VotingClassifier\n",
    "from sklearn.ensemble import BaggingClassifier\n",
    "from sklearn.ensemble import AdaBoostClassifier\n",
    "from sklearn.ensemble import GradientBoostingClassifier\n",
    "from sklearn.tree import DecisionTreeClassifier\n",
    "from sklearn.linear_model import LogisticRegression\n",
    "from sklearn.neighbors import KNeighborsClassifier\n",
    "from sklearn.metrics import accuracy_score"
   ]
  },
  {
   "cell_type": "code",
   "execution_count": 2,
   "id": "677e38ce-e906-40d2-bcfc-b1a848bfa3dd",
   "metadata": {
    "tags": []
   },
   "outputs": [],
   "source": [
    "bc = datasets.load_breast_cancer(as_frame=True)"
   ]
  },
  {
   "cell_type": "markdown",
   "id": "8739ff2a-729f-4921-bf8c-e9f1a1a41c87",
   "metadata": {},
   "source": [
    "### 1"
   ]
  },
  {
   "cell_type": "code",
   "execution_count": 3,
   "id": "ab68dd5e-e747-49d8-a001-3fdca7be1f40",
   "metadata": {
    "tags": []
   },
   "outputs": [],
   "source": [
    "X_train, X_test, y_train, y_test = train_test_split(\n",
    "    bc.data, bc.target, test_size=0.2)"
   ]
  },
  {
   "cell_type": "markdown",
   "id": "81afd111-c133-4ba9-9e4d-6488a5717654",
   "metadata": {},
   "source": [
    "### 2"
   ]
  },
  {
   "cell_type": "code",
   "execution_count": 4,
   "id": "3d84678d-b23a-40ef-864e-39e6533e7207",
   "metadata": {
    "tags": []
   },
   "outputs": [],
   "source": [
    "log_clf = LogisticRegression()\n",
    "tree_clf = DecisionTreeClassifier()\n",
    "knn_clf = KNeighborsClassifier()\n",
    "\n",
    "voting_clf_hard = VotingClassifier(\n",
    "    estimators=[('tr', tree_clf),('lr', log_clf),('kn', knn_clf)],\n",
    "    voting='hard',)\n",
    "\n",
    "voting_clf_soft = VotingClassifier(\n",
    "    estimators=[('tr', tree_clf),('lr', log_clf),('kn', knn_clf)],\n",
    "    voting='soft',)"
   ]
  },
  {
   "cell_type": "markdown",
   "id": "82a2fdef-e925-4c67-848c-00d407fd43b9",
   "metadata": {},
   "source": [
    "### 3 and 4"
   ]
  },
  {
   "cell_type": "code",
   "execution_count": 5,
   "id": "7cb1cc79-4c6e-41a1-a22a-1af516b30c63",
   "metadata": {
    "tags": []
   },
   "outputs": [],
   "source": [
    "scores = []\n",
    "for clf in (tree_clf, log_clf, knn_clf, voting_clf_hard, voting_clf_soft):\n",
    "    clf.fit(X_train[['mean texture', 'mean symmetry']], y_train)\n",
    "    y_pred_train = clf.predict(X_train[['mean texture', 'mean symmetry']])\n",
    "    y_pred_test = clf.predict(X_test[['mean texture', 'mean symmetry']])\n",
    "    s1 = accuracy_score(y_train, y_pred_train)\n",
    "    s2 = accuracy_score(y_test, y_pred_test)\n",
    "    scores.append((s1,s2))"
   ]
  },
  {
   "cell_type": "code",
   "execution_count": 6,
   "id": "54fd2b7e-fab8-4fe5-919b-ea32d94b7b29",
   "metadata": {
    "tags": []
   },
   "outputs": [],
   "source": [
    "classifiers = [log_clf, tree_clf, knn_clf, \n",
    "               voting_clf_hard, voting_clf_soft]"
   ]
  },
  {
   "cell_type": "code",
   "execution_count": 7,
   "id": "89251e92-a0cd-4bf6-a7c6-61c847f9ef04",
   "metadata": {
    "tags": []
   },
   "outputs": [],
   "source": [
    "with open('acc_vote.pkl', 'wb') as f1, open('vote.pkl', 'wb') as f2:\n",
    "    pickle.dump(scores, f1)\n",
    "    pickle.dump(classifiers, f2)"
   ]
  },
  {
   "cell_type": "markdown",
   "id": "8b8938ff-87bd-44ab-9178-07f9aafb7371",
   "metadata": {},
   "source": [
    "### 5"
   ]
  },
  {
   "cell_type": "code",
   "execution_count": 8,
   "id": "7bfe0dca-5296-433a-b6bf-815fbfd1cfc2",
   "metadata": {
    "tags": []
   },
   "outputs": [],
   "source": [
    "bag_clf = BaggingClassifier(\n",
    "    DecisionTreeClassifier(), n_estimators=30,\n",
    "    bootstrap=True)\n",
    "\n",
    "bag_clf_50 = BaggingClassifier(\n",
    "    DecisionTreeClassifier(), n_estimators=30,\n",
    "    bootstrap=True, max_samples=0.5)\n",
    "\n",
    "past_clf = BaggingClassifier(\n",
    "    DecisionTreeClassifier(), n_estimators=30,\n",
    "    bootstrap=False)\n",
    "\n",
    "past_clf_50 = BaggingClassifier(\n",
    "    DecisionTreeClassifier(), n_estimators=30,\n",
    "    bootstrap=False, max_samples=0.5)\n",
    "\n",
    "rand_clf = RandomForestClassifier(n_estimators=30)\n",
    "\n",
    "adab_clf = AdaBoostClassifier(n_estimators=30)\n",
    "\n",
    "gb_clf = GradientBoostingClassifier(n_estimators=30)"
   ]
  },
  {
   "cell_type": "markdown",
   "id": "03288c31-d8ac-4993-8508-6c6ec41a2966",
   "metadata": {},
   "source": [
    "### 6"
   ]
  },
  {
   "cell_type": "code",
   "execution_count": 9,
   "id": "116fe104-5e36-4137-90b7-bc215aa4aee0",
   "metadata": {
    "tags": []
   },
   "outputs": [],
   "source": [
    "scores2 = []\n",
    "for clf in (bag_clf, bag_clf_50, past_clf, past_clf_50, rand_clf, adab_clf, gb_clf):\n",
    "    clf.fit(X_train, y_train)\n",
    "    y_pred_train = clf.predict(X_train)\n",
    "    y_pred_test = clf.predict(X_test)\n",
    "    s1 = accuracy_score(y_train, y_pred_train)\n",
    "    s2 = accuracy_score(y_test, y_pred_test)\n",
    "    scores2.append((s1,s2))"
   ]
  },
  {
   "cell_type": "code",
   "execution_count": 10,
   "id": "bccd73bc-a255-408b-8abd-4f77552c8456",
   "metadata": {
    "tags": []
   },
   "outputs": [],
   "source": [
    "classifiers2 = [bag_clf, bag_clf_50, past_clf, past_clf_50, rand_clf, adab_clf, gb_clf]"
   ]
  },
  {
   "cell_type": "code",
   "execution_count": 11,
   "id": "d7d115aa-a424-4476-bea8-eae4dd4e3baa",
   "metadata": {
    "tags": []
   },
   "outputs": [],
   "source": [
    "with open('acc_bag.pkl', 'wb') as f1, open('bag.pkl', 'wb') as f2:\n",
    "    pickle.dump(scores2, f1)\n",
    "    pickle.dump(classifiers2, f2)"
   ]
  },
  {
   "cell_type": "markdown",
   "id": "596520ec-70e9-48e7-b244-6efe4133bf12",
   "metadata": {},
   "source": [
    "### 7 and 8"
   ]
  },
  {
   "cell_type": "code",
   "execution_count": 12,
   "id": "2dbb4410-48de-49e8-8b3a-4151934f8147",
   "metadata": {
    "tags": []
   },
   "outputs": [],
   "source": [
    "bag_clf_sampling = BaggingClassifier(\n",
    "    DecisionTreeClassifier(),\n",
    "    n_estimators=30,\n",
    "    max_features=2,\n",
    "    bootstrap_features=False,\n",
    "    max_samples=0.5,\n",
    "    bootstrap=True)"
   ]
  },
  {
   "cell_type": "code",
   "execution_count": 13,
   "id": "9b06bca9-6351-41a5-ae3d-559ca3dde62f",
   "metadata": {
    "tags": []
   },
   "outputs": [],
   "source": [
    "bag_clf_sampling.fit(X_train, y_train)\n",
    "y_pred_train = bag_clf_sampling.predict(X_train)\n",
    "y_pred_test = bag_clf_sampling.predict(X_test)\n",
    "score_train = accuracy_score(y_train, y_pred_train)\n",
    "score_test = accuracy_score(y_test, y_pred_test)"
   ]
  },
  {
   "cell_type": "code",
   "execution_count": 14,
   "id": "f5cc4b83-429d-4946-9a0e-7b7719c039df",
   "metadata": {
    "tags": []
   },
   "outputs": [],
   "source": [
    "scores3 = [score_train, score_test]\n",
    "classifiers3 = [bag_clf_sampling]"
   ]
  },
  {
   "cell_type": "code",
   "execution_count": 15,
   "id": "5a8881a5-ea18-44ee-933a-796eabd919e1",
   "metadata": {
    "tags": []
   },
   "outputs": [],
   "source": [
    "with open('acc_fea.pkl', 'wb') as f1, open('fea.pkl', 'wb') as f2:\n",
    "    pickle.dump(scores3, f1)\n",
    "    pickle.dump(classifiers3, f2)"
   ]
  },
  {
   "cell_type": "markdown",
   "id": "e169ee0a-a20c-4b32-8618-1fbf0b5665eb",
   "metadata": {},
   "source": [
    "### 9"
   ]
  },
  {
   "cell_type": "code",
   "execution_count": 16,
   "id": "1a785335-02ce-40fd-8f48-96e9bb50a2bc",
   "metadata": {
    "collapsed": true,
    "jupyter": {
     "outputs_hidden": true
    },
    "tags": []
   },
   "outputs": [
    {
     "name": "stderr",
     "output_type": "stream",
     "text": [
      "/Users/maciekadamus/opt/anaconda3/envs/ml/lib/python3.9/site-packages/sklearn/base.py:432: UserWarning: X has feature names, but DecisionTreeClassifier was fitted without feature names\n",
      "  warnings.warn(\n",
      "/Users/maciekadamus/opt/anaconda3/envs/ml/lib/python3.9/site-packages/sklearn/base.py:432: UserWarning: X has feature names, but DecisionTreeClassifier was fitted without feature names\n",
      "  warnings.warn(\n",
      "/var/folders/b3/8tdznktj1ss8lmgm5g4lt2_w0000gn/T/ipykernel_27523/2645391704.py:10: FutureWarning: The frame.append method is deprecated and will be removed from pandas in a future version. Use pandas.concat instead.\n",
      "  df = df.append(pd.DataFrame([[score_train, score_test, selected_features.tolist()]], columns=['train', 'test', 'features'], index=[i]))\n",
      "/Users/maciekadamus/opt/anaconda3/envs/ml/lib/python3.9/site-packages/sklearn/base.py:432: UserWarning: X has feature names, but DecisionTreeClassifier was fitted without feature names\n",
      "  warnings.warn(\n",
      "/Users/maciekadamus/opt/anaconda3/envs/ml/lib/python3.9/site-packages/sklearn/base.py:432: UserWarning: X has feature names, but DecisionTreeClassifier was fitted without feature names\n",
      "  warnings.warn(\n",
      "/var/folders/b3/8tdznktj1ss8lmgm5g4lt2_w0000gn/T/ipykernel_27523/2645391704.py:10: FutureWarning: The frame.append method is deprecated and will be removed from pandas in a future version. Use pandas.concat instead.\n",
      "  df = df.append(pd.DataFrame([[score_train, score_test, selected_features.tolist()]], columns=['train', 'test', 'features'], index=[i]))\n",
      "/Users/maciekadamus/opt/anaconda3/envs/ml/lib/python3.9/site-packages/sklearn/base.py:432: UserWarning: X has feature names, but DecisionTreeClassifier was fitted without feature names\n",
      "  warnings.warn(\n",
      "/Users/maciekadamus/opt/anaconda3/envs/ml/lib/python3.9/site-packages/sklearn/base.py:432: UserWarning: X has feature names, but DecisionTreeClassifier was fitted without feature names\n",
      "  warnings.warn(\n",
      "/var/folders/b3/8tdznktj1ss8lmgm5g4lt2_w0000gn/T/ipykernel_27523/2645391704.py:10: FutureWarning: The frame.append method is deprecated and will be removed from pandas in a future version. Use pandas.concat instead.\n",
      "  df = df.append(pd.DataFrame([[score_train, score_test, selected_features.tolist()]], columns=['train', 'test', 'features'], index=[i]))\n",
      "/Users/maciekadamus/opt/anaconda3/envs/ml/lib/python3.9/site-packages/sklearn/base.py:432: UserWarning: X has feature names, but DecisionTreeClassifier was fitted without feature names\n",
      "  warnings.warn(\n",
      "/Users/maciekadamus/opt/anaconda3/envs/ml/lib/python3.9/site-packages/sklearn/base.py:432: UserWarning: X has feature names, but DecisionTreeClassifier was fitted without feature names\n",
      "  warnings.warn(\n",
      "/var/folders/b3/8tdznktj1ss8lmgm5g4lt2_w0000gn/T/ipykernel_27523/2645391704.py:10: FutureWarning: The frame.append method is deprecated and will be removed from pandas in a future version. Use pandas.concat instead.\n",
      "  df = df.append(pd.DataFrame([[score_train, score_test, selected_features.tolist()]], columns=['train', 'test', 'features'], index=[i]))\n",
      "/Users/maciekadamus/opt/anaconda3/envs/ml/lib/python3.9/site-packages/sklearn/base.py:432: UserWarning: X has feature names, but DecisionTreeClassifier was fitted without feature names\n",
      "  warnings.warn(\n",
      "/Users/maciekadamus/opt/anaconda3/envs/ml/lib/python3.9/site-packages/sklearn/base.py:432: UserWarning: X has feature names, but DecisionTreeClassifier was fitted without feature names\n",
      "  warnings.warn(\n",
      "/var/folders/b3/8tdznktj1ss8lmgm5g4lt2_w0000gn/T/ipykernel_27523/2645391704.py:10: FutureWarning: The frame.append method is deprecated and will be removed from pandas in a future version. Use pandas.concat instead.\n",
      "  df = df.append(pd.DataFrame([[score_train, score_test, selected_features.tolist()]], columns=['train', 'test', 'features'], index=[i]))\n",
      "/Users/maciekadamus/opt/anaconda3/envs/ml/lib/python3.9/site-packages/sklearn/base.py:432: UserWarning: X has feature names, but DecisionTreeClassifier was fitted without feature names\n",
      "  warnings.warn(\n",
      "/Users/maciekadamus/opt/anaconda3/envs/ml/lib/python3.9/site-packages/sklearn/base.py:432: UserWarning: X has feature names, but DecisionTreeClassifier was fitted without feature names\n",
      "  warnings.warn(\n",
      "/var/folders/b3/8tdznktj1ss8lmgm5g4lt2_w0000gn/T/ipykernel_27523/2645391704.py:10: FutureWarning: The frame.append method is deprecated and will be removed from pandas in a future version. Use pandas.concat instead.\n",
      "  df = df.append(pd.DataFrame([[score_train, score_test, selected_features.tolist()]], columns=['train', 'test', 'features'], index=[i]))\n",
      "/Users/maciekadamus/opt/anaconda3/envs/ml/lib/python3.9/site-packages/sklearn/base.py:432: UserWarning: X has feature names, but DecisionTreeClassifier was fitted without feature names\n",
      "  warnings.warn(\n",
      "/Users/maciekadamus/opt/anaconda3/envs/ml/lib/python3.9/site-packages/sklearn/base.py:432: UserWarning: X has feature names, but DecisionTreeClassifier was fitted without feature names\n",
      "  warnings.warn(\n",
      "/var/folders/b3/8tdznktj1ss8lmgm5g4lt2_w0000gn/T/ipykernel_27523/2645391704.py:10: FutureWarning: The frame.append method is deprecated and will be removed from pandas in a future version. Use pandas.concat instead.\n",
      "  df = df.append(pd.DataFrame([[score_train, score_test, selected_features.tolist()]], columns=['train', 'test', 'features'], index=[i]))\n",
      "/Users/maciekadamus/opt/anaconda3/envs/ml/lib/python3.9/site-packages/sklearn/base.py:432: UserWarning: X has feature names, but DecisionTreeClassifier was fitted without feature names\n",
      "  warnings.warn(\n",
      "/Users/maciekadamus/opt/anaconda3/envs/ml/lib/python3.9/site-packages/sklearn/base.py:432: UserWarning: X has feature names, but DecisionTreeClassifier was fitted without feature names\n",
      "  warnings.warn(\n",
      "/var/folders/b3/8tdznktj1ss8lmgm5g4lt2_w0000gn/T/ipykernel_27523/2645391704.py:10: FutureWarning: The frame.append method is deprecated and will be removed from pandas in a future version. Use pandas.concat instead.\n",
      "  df = df.append(pd.DataFrame([[score_train, score_test, selected_features.tolist()]], columns=['train', 'test', 'features'], index=[i]))\n",
      "/Users/maciekadamus/opt/anaconda3/envs/ml/lib/python3.9/site-packages/sklearn/base.py:432: UserWarning: X has feature names, but DecisionTreeClassifier was fitted without feature names\n",
      "  warnings.warn(\n",
      "/Users/maciekadamus/opt/anaconda3/envs/ml/lib/python3.9/site-packages/sklearn/base.py:432: UserWarning: X has feature names, but DecisionTreeClassifier was fitted without feature names\n",
      "  warnings.warn(\n",
      "/var/folders/b3/8tdznktj1ss8lmgm5g4lt2_w0000gn/T/ipykernel_27523/2645391704.py:10: FutureWarning: The frame.append method is deprecated and will be removed from pandas in a future version. Use pandas.concat instead.\n",
      "  df = df.append(pd.DataFrame([[score_train, score_test, selected_features.tolist()]], columns=['train', 'test', 'features'], index=[i]))\n",
      "/Users/maciekadamus/opt/anaconda3/envs/ml/lib/python3.9/site-packages/sklearn/base.py:432: UserWarning: X has feature names, but DecisionTreeClassifier was fitted without feature names\n",
      "  warnings.warn(\n",
      "/Users/maciekadamus/opt/anaconda3/envs/ml/lib/python3.9/site-packages/sklearn/base.py:432: UserWarning: X has feature names, but DecisionTreeClassifier was fitted without feature names\n",
      "  warnings.warn(\n",
      "/var/folders/b3/8tdznktj1ss8lmgm5g4lt2_w0000gn/T/ipykernel_27523/2645391704.py:10: FutureWarning: The frame.append method is deprecated and will be removed from pandas in a future version. Use pandas.concat instead.\n",
      "  df = df.append(pd.DataFrame([[score_train, score_test, selected_features.tolist()]], columns=['train', 'test', 'features'], index=[i]))\n",
      "/Users/maciekadamus/opt/anaconda3/envs/ml/lib/python3.9/site-packages/sklearn/base.py:432: UserWarning: X has feature names, but DecisionTreeClassifier was fitted without feature names\n",
      "  warnings.warn(\n",
      "/Users/maciekadamus/opt/anaconda3/envs/ml/lib/python3.9/site-packages/sklearn/base.py:432: UserWarning: X has feature names, but DecisionTreeClassifier was fitted without feature names\n",
      "  warnings.warn(\n",
      "/var/folders/b3/8tdznktj1ss8lmgm5g4lt2_w0000gn/T/ipykernel_27523/2645391704.py:10: FutureWarning: The frame.append method is deprecated and will be removed from pandas in a future version. Use pandas.concat instead.\n",
      "  df = df.append(pd.DataFrame([[score_train, score_test, selected_features.tolist()]], columns=['train', 'test', 'features'], index=[i]))\n",
      "/Users/maciekadamus/opt/anaconda3/envs/ml/lib/python3.9/site-packages/sklearn/base.py:432: UserWarning: X has feature names, but DecisionTreeClassifier was fitted without feature names\n",
      "  warnings.warn(\n",
      "/Users/maciekadamus/opt/anaconda3/envs/ml/lib/python3.9/site-packages/sklearn/base.py:432: UserWarning: X has feature names, but DecisionTreeClassifier was fitted without feature names\n",
      "  warnings.warn(\n",
      "/var/folders/b3/8tdznktj1ss8lmgm5g4lt2_w0000gn/T/ipykernel_27523/2645391704.py:10: FutureWarning: The frame.append method is deprecated and will be removed from pandas in a future version. Use pandas.concat instead.\n",
      "  df = df.append(pd.DataFrame([[score_train, score_test, selected_features.tolist()]], columns=['train', 'test', 'features'], index=[i]))\n",
      "/Users/maciekadamus/opt/anaconda3/envs/ml/lib/python3.9/site-packages/sklearn/base.py:432: UserWarning: X has feature names, but DecisionTreeClassifier was fitted without feature names\n",
      "  warnings.warn(\n",
      "/Users/maciekadamus/opt/anaconda3/envs/ml/lib/python3.9/site-packages/sklearn/base.py:432: UserWarning: X has feature names, but DecisionTreeClassifier was fitted without feature names\n",
      "  warnings.warn(\n",
      "/var/folders/b3/8tdznktj1ss8lmgm5g4lt2_w0000gn/T/ipykernel_27523/2645391704.py:10: FutureWarning: The frame.append method is deprecated and will be removed from pandas in a future version. Use pandas.concat instead.\n",
      "  df = df.append(pd.DataFrame([[score_train, score_test, selected_features.tolist()]], columns=['train', 'test', 'features'], index=[i]))\n",
      "/Users/maciekadamus/opt/anaconda3/envs/ml/lib/python3.9/site-packages/sklearn/base.py:432: UserWarning: X has feature names, but DecisionTreeClassifier was fitted without feature names\n",
      "  warnings.warn(\n",
      "/Users/maciekadamus/opt/anaconda3/envs/ml/lib/python3.9/site-packages/sklearn/base.py:432: UserWarning: X has feature names, but DecisionTreeClassifier was fitted without feature names\n",
      "  warnings.warn(\n",
      "/var/folders/b3/8tdznktj1ss8lmgm5g4lt2_w0000gn/T/ipykernel_27523/2645391704.py:10: FutureWarning: The frame.append method is deprecated and will be removed from pandas in a future version. Use pandas.concat instead.\n",
      "  df = df.append(pd.DataFrame([[score_train, score_test, selected_features.tolist()]], columns=['train', 'test', 'features'], index=[i]))\n",
      "/Users/maciekadamus/opt/anaconda3/envs/ml/lib/python3.9/site-packages/sklearn/base.py:432: UserWarning: X has feature names, but DecisionTreeClassifier was fitted without feature names\n",
      "  warnings.warn(\n",
      "/Users/maciekadamus/opt/anaconda3/envs/ml/lib/python3.9/site-packages/sklearn/base.py:432: UserWarning: X has feature names, but DecisionTreeClassifier was fitted without feature names\n",
      "  warnings.warn(\n",
      "/var/folders/b3/8tdznktj1ss8lmgm5g4lt2_w0000gn/T/ipykernel_27523/2645391704.py:10: FutureWarning: The frame.append method is deprecated and will be removed from pandas in a future version. Use pandas.concat instead.\n",
      "  df = df.append(pd.DataFrame([[score_train, score_test, selected_features.tolist()]], columns=['train', 'test', 'features'], index=[i]))\n",
      "/Users/maciekadamus/opt/anaconda3/envs/ml/lib/python3.9/site-packages/sklearn/base.py:432: UserWarning: X has feature names, but DecisionTreeClassifier was fitted without feature names\n",
      "  warnings.warn(\n",
      "/Users/maciekadamus/opt/anaconda3/envs/ml/lib/python3.9/site-packages/sklearn/base.py:432: UserWarning: X has feature names, but DecisionTreeClassifier was fitted without feature names\n",
      "  warnings.warn(\n",
      "/var/folders/b3/8tdznktj1ss8lmgm5g4lt2_w0000gn/T/ipykernel_27523/2645391704.py:10: FutureWarning: The frame.append method is deprecated and will be removed from pandas in a future version. Use pandas.concat instead.\n",
      "  df = df.append(pd.DataFrame([[score_train, score_test, selected_features.tolist()]], columns=['train', 'test', 'features'], index=[i]))\n",
      "/Users/maciekadamus/opt/anaconda3/envs/ml/lib/python3.9/site-packages/sklearn/base.py:432: UserWarning: X has feature names, but DecisionTreeClassifier was fitted without feature names\n",
      "  warnings.warn(\n",
      "/Users/maciekadamus/opt/anaconda3/envs/ml/lib/python3.9/site-packages/sklearn/base.py:432: UserWarning: X has feature names, but DecisionTreeClassifier was fitted without feature names\n",
      "  warnings.warn(\n",
      "/var/folders/b3/8tdznktj1ss8lmgm5g4lt2_w0000gn/T/ipykernel_27523/2645391704.py:10: FutureWarning: The frame.append method is deprecated and will be removed from pandas in a future version. Use pandas.concat instead.\n",
      "  df = df.append(pd.DataFrame([[score_train, score_test, selected_features.tolist()]], columns=['train', 'test', 'features'], index=[i]))\n",
      "/Users/maciekadamus/opt/anaconda3/envs/ml/lib/python3.9/site-packages/sklearn/base.py:432: UserWarning: X has feature names, but DecisionTreeClassifier was fitted without feature names\n",
      "  warnings.warn(\n",
      "/Users/maciekadamus/opt/anaconda3/envs/ml/lib/python3.9/site-packages/sklearn/base.py:432: UserWarning: X has feature names, but DecisionTreeClassifier was fitted without feature names\n",
      "  warnings.warn(\n",
      "/var/folders/b3/8tdznktj1ss8lmgm5g4lt2_w0000gn/T/ipykernel_27523/2645391704.py:10: FutureWarning: The frame.append method is deprecated and will be removed from pandas in a future version. Use pandas.concat instead.\n",
      "  df = df.append(pd.DataFrame([[score_train, score_test, selected_features.tolist()]], columns=['train', 'test', 'features'], index=[i]))\n",
      "/Users/maciekadamus/opt/anaconda3/envs/ml/lib/python3.9/site-packages/sklearn/base.py:432: UserWarning: X has feature names, but DecisionTreeClassifier was fitted without feature names\n",
      "  warnings.warn(\n",
      "/Users/maciekadamus/opt/anaconda3/envs/ml/lib/python3.9/site-packages/sklearn/base.py:432: UserWarning: X has feature names, but DecisionTreeClassifier was fitted without feature names\n",
      "  warnings.warn(\n",
      "/var/folders/b3/8tdznktj1ss8lmgm5g4lt2_w0000gn/T/ipykernel_27523/2645391704.py:10: FutureWarning: The frame.append method is deprecated and will be removed from pandas in a future version. Use pandas.concat instead.\n",
      "  df = df.append(pd.DataFrame([[score_train, score_test, selected_features.tolist()]], columns=['train', 'test', 'features'], index=[i]))\n",
      "/Users/maciekadamus/opt/anaconda3/envs/ml/lib/python3.9/site-packages/sklearn/base.py:432: UserWarning: X has feature names, but DecisionTreeClassifier was fitted without feature names\n",
      "  warnings.warn(\n",
      "/Users/maciekadamus/opt/anaconda3/envs/ml/lib/python3.9/site-packages/sklearn/base.py:432: UserWarning: X has feature names, but DecisionTreeClassifier was fitted without feature names\n",
      "  warnings.warn(\n",
      "/var/folders/b3/8tdznktj1ss8lmgm5g4lt2_w0000gn/T/ipykernel_27523/2645391704.py:10: FutureWarning: The frame.append method is deprecated and will be removed from pandas in a future version. Use pandas.concat instead.\n",
      "  df = df.append(pd.DataFrame([[score_train, score_test, selected_features.tolist()]], columns=['train', 'test', 'features'], index=[i]))\n",
      "/Users/maciekadamus/opt/anaconda3/envs/ml/lib/python3.9/site-packages/sklearn/base.py:432: UserWarning: X has feature names, but DecisionTreeClassifier was fitted without feature names\n",
      "  warnings.warn(\n",
      "/Users/maciekadamus/opt/anaconda3/envs/ml/lib/python3.9/site-packages/sklearn/base.py:432: UserWarning: X has feature names, but DecisionTreeClassifier was fitted without feature names\n",
      "  warnings.warn(\n",
      "/var/folders/b3/8tdznktj1ss8lmgm5g4lt2_w0000gn/T/ipykernel_27523/2645391704.py:10: FutureWarning: The frame.append method is deprecated and will be removed from pandas in a future version. Use pandas.concat instead.\n",
      "  df = df.append(pd.DataFrame([[score_train, score_test, selected_features.tolist()]], columns=['train', 'test', 'features'], index=[i]))\n",
      "/Users/maciekadamus/opt/anaconda3/envs/ml/lib/python3.9/site-packages/sklearn/base.py:432: UserWarning: X has feature names, but DecisionTreeClassifier was fitted without feature names\n",
      "  warnings.warn(\n",
      "/Users/maciekadamus/opt/anaconda3/envs/ml/lib/python3.9/site-packages/sklearn/base.py:432: UserWarning: X has feature names, but DecisionTreeClassifier was fitted without feature names\n",
      "  warnings.warn(\n",
      "/var/folders/b3/8tdznktj1ss8lmgm5g4lt2_w0000gn/T/ipykernel_27523/2645391704.py:10: FutureWarning: The frame.append method is deprecated and will be removed from pandas in a future version. Use pandas.concat instead.\n",
      "  df = df.append(pd.DataFrame([[score_train, score_test, selected_features.tolist()]], columns=['train', 'test', 'features'], index=[i]))\n",
      "/Users/maciekadamus/opt/anaconda3/envs/ml/lib/python3.9/site-packages/sklearn/base.py:432: UserWarning: X has feature names, but DecisionTreeClassifier was fitted without feature names\n",
      "  warnings.warn(\n",
      "/Users/maciekadamus/opt/anaconda3/envs/ml/lib/python3.9/site-packages/sklearn/base.py:432: UserWarning: X has feature names, but DecisionTreeClassifier was fitted without feature names\n",
      "  warnings.warn(\n",
      "/var/folders/b3/8tdznktj1ss8lmgm5g4lt2_w0000gn/T/ipykernel_27523/2645391704.py:10: FutureWarning: The frame.append method is deprecated and will be removed from pandas in a future version. Use pandas.concat instead.\n",
      "  df = df.append(pd.DataFrame([[score_train, score_test, selected_features.tolist()]], columns=['train', 'test', 'features'], index=[i]))\n",
      "/Users/maciekadamus/opt/anaconda3/envs/ml/lib/python3.9/site-packages/sklearn/base.py:432: UserWarning: X has feature names, but DecisionTreeClassifier was fitted without feature names\n",
      "  warnings.warn(\n",
      "/Users/maciekadamus/opt/anaconda3/envs/ml/lib/python3.9/site-packages/sklearn/base.py:432: UserWarning: X has feature names, but DecisionTreeClassifier was fitted without feature names\n",
      "  warnings.warn(\n",
      "/var/folders/b3/8tdznktj1ss8lmgm5g4lt2_w0000gn/T/ipykernel_27523/2645391704.py:10: FutureWarning: The frame.append method is deprecated and will be removed from pandas in a future version. Use pandas.concat instead.\n",
      "  df = df.append(pd.DataFrame([[score_train, score_test, selected_features.tolist()]], columns=['train', 'test', 'features'], index=[i]))\n",
      "/Users/maciekadamus/opt/anaconda3/envs/ml/lib/python3.9/site-packages/sklearn/base.py:432: UserWarning: X has feature names, but DecisionTreeClassifier was fitted without feature names\n",
      "  warnings.warn(\n",
      "/Users/maciekadamus/opt/anaconda3/envs/ml/lib/python3.9/site-packages/sklearn/base.py:432: UserWarning: X has feature names, but DecisionTreeClassifier was fitted without feature names\n",
      "  warnings.warn(\n",
      "/var/folders/b3/8tdznktj1ss8lmgm5g4lt2_w0000gn/T/ipykernel_27523/2645391704.py:10: FutureWarning: The frame.append method is deprecated and will be removed from pandas in a future version. Use pandas.concat instead.\n",
      "  df = df.append(pd.DataFrame([[score_train, score_test, selected_features.tolist()]], columns=['train', 'test', 'features'], index=[i]))\n",
      "/Users/maciekadamus/opt/anaconda3/envs/ml/lib/python3.9/site-packages/sklearn/base.py:432: UserWarning: X has feature names, but DecisionTreeClassifier was fitted without feature names\n",
      "  warnings.warn(\n",
      "/Users/maciekadamus/opt/anaconda3/envs/ml/lib/python3.9/site-packages/sklearn/base.py:432: UserWarning: X has feature names, but DecisionTreeClassifier was fitted without feature names\n",
      "  warnings.warn(\n",
      "/var/folders/b3/8tdznktj1ss8lmgm5g4lt2_w0000gn/T/ipykernel_27523/2645391704.py:10: FutureWarning: The frame.append method is deprecated and will be removed from pandas in a future version. Use pandas.concat instead.\n",
      "  df = df.append(pd.DataFrame([[score_train, score_test, selected_features.tolist()]], columns=['train', 'test', 'features'], index=[i]))\n",
      "/Users/maciekadamus/opt/anaconda3/envs/ml/lib/python3.9/site-packages/sklearn/base.py:432: UserWarning: X has feature names, but DecisionTreeClassifier was fitted without feature names\n",
      "  warnings.warn(\n",
      "/Users/maciekadamus/opt/anaconda3/envs/ml/lib/python3.9/site-packages/sklearn/base.py:432: UserWarning: X has feature names, but DecisionTreeClassifier was fitted without feature names\n",
      "  warnings.warn(\n",
      "/var/folders/b3/8tdznktj1ss8lmgm5g4lt2_w0000gn/T/ipykernel_27523/2645391704.py:10: FutureWarning: The frame.append method is deprecated and will be removed from pandas in a future version. Use pandas.concat instead.\n",
      "  df = df.append(pd.DataFrame([[score_train, score_test, selected_features.tolist()]], columns=['train', 'test', 'features'], index=[i]))\n",
      "/Users/maciekadamus/opt/anaconda3/envs/ml/lib/python3.9/site-packages/sklearn/base.py:432: UserWarning: X has feature names, but DecisionTreeClassifier was fitted without feature names\n",
      "  warnings.warn(\n",
      "/Users/maciekadamus/opt/anaconda3/envs/ml/lib/python3.9/site-packages/sklearn/base.py:432: UserWarning: X has feature names, but DecisionTreeClassifier was fitted without feature names\n",
      "  warnings.warn(\n",
      "/var/folders/b3/8tdznktj1ss8lmgm5g4lt2_w0000gn/T/ipykernel_27523/2645391704.py:10: FutureWarning: The frame.append method is deprecated and will be removed from pandas in a future version. Use pandas.concat instead.\n",
      "  df = df.append(pd.DataFrame([[score_train, score_test, selected_features.tolist()]], columns=['train', 'test', 'features'], index=[i]))\n",
      "/Users/maciekadamus/opt/anaconda3/envs/ml/lib/python3.9/site-packages/sklearn/base.py:432: UserWarning: X has feature names, but DecisionTreeClassifier was fitted without feature names\n",
      "  warnings.warn(\n",
      "/Users/maciekadamus/opt/anaconda3/envs/ml/lib/python3.9/site-packages/sklearn/base.py:432: UserWarning: X has feature names, but DecisionTreeClassifier was fitted without feature names\n",
      "  warnings.warn(\n",
      "/var/folders/b3/8tdznktj1ss8lmgm5g4lt2_w0000gn/T/ipykernel_27523/2645391704.py:10: FutureWarning: The frame.append method is deprecated and will be removed from pandas in a future version. Use pandas.concat instead.\n",
      "  df = df.append(pd.DataFrame([[score_train, score_test, selected_features.tolist()]], columns=['train', 'test', 'features'], index=[i]))\n",
      "/Users/maciekadamus/opt/anaconda3/envs/ml/lib/python3.9/site-packages/sklearn/base.py:432: UserWarning: X has feature names, but DecisionTreeClassifier was fitted without feature names\n",
      "  warnings.warn(\n",
      "/Users/maciekadamus/opt/anaconda3/envs/ml/lib/python3.9/site-packages/sklearn/base.py:432: UserWarning: X has feature names, but DecisionTreeClassifier was fitted without feature names\n",
      "  warnings.warn(\n",
      "/var/folders/b3/8tdznktj1ss8lmgm5g4lt2_w0000gn/T/ipykernel_27523/2645391704.py:10: FutureWarning: The frame.append method is deprecated and will be removed from pandas in a future version. Use pandas.concat instead.\n",
      "  df = df.append(pd.DataFrame([[score_train, score_test, selected_features.tolist()]], columns=['train', 'test', 'features'], index=[i]))\n"
     ]
    }
   ],
   "source": [
    "df = pd.DataFrame()\n",
    "for i in range(len(bag_clf_sampling.estimators_)):\n",
    "    selected_features = X_train.columns[bag_clf_sampling.estimators_features_[i]]\n",
    "    X_train_selected = X_train[selected_features]\n",
    "    X_test_selected = X_test[selected_features]\n",
    "    y_pred_train = bag_clf_sampling.estimators_[i].predict(X_train_selected)\n",
    "    y_pred_test = bag_clf_sampling.estimators_[i].predict(X_test_selected)\n",
    "    score_train = accuracy_score(y_train, y_pred_train)\n",
    "    score_test = accuracy_score(y_test, y_pred_test)\n",
    "    df = df.append(pd.DataFrame([[score_train, score_test, selected_features.tolist()]], columns=['train', 'test', 'features'], index=[i]))"
   ]
  },
  {
   "cell_type": "code",
   "execution_count": 17,
   "id": "5cc1fbb2-8ed2-4959-9216-5d33dfcf94c3",
   "metadata": {
    "tags": []
   },
   "outputs": [],
   "source": [
    "df.sort_values(by=['test', 'train'], ascending=False, inplace=True)"
   ]
  },
  {
   "cell_type": "code",
   "execution_count": 18,
   "id": "fc3252bc-dfc9-44b1-bed7-5f4a74fc6bfb",
   "metadata": {
    "tags": []
   },
   "outputs": [],
   "source": [
    "with open('acc_fea_rank.pkl', 'wb') as f:\n",
    "    pickle.dump(df, f)"
   ]
  }
 ],
 "metadata": {
  "kernelspec": {
   "display_name": "Python 3 (ipykernel)",
   "language": "python",
   "name": "python3"
  },
  "language_info": {
   "codemirror_mode": {
    "name": "ipython",
    "version": 3
   },
   "file_extension": ".py",
   "mimetype": "text/x-python",
   "name": "python",
   "nbconvert_exporter": "python",
   "pygments_lexer": "ipython3",
   "version": "3.9.16"
  }
 },
 "nbformat": 4,
 "nbformat_minor": 5
}
