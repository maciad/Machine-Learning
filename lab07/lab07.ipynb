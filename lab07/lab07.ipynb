{
 "cells": [
  {
   "cell_type": "code",
   "execution_count": null,
   "id": "a4fc3641-e448-43a3-a0d5-b5cac92875ee",
   "metadata": {
    "tags": []
   },
   "outputs": [],
   "source": [
    "import pandas as pd\n",
    "import numpy as np\n",
    "import pickle\n",
    "from statistics import mean\n",
    "from sklearn.datasets import fetch_openml\n",
    "from sklearn.cluster import KMeans\n",
    "from sklearn.metrics import silhouette_score\n",
    "from sklearn.metrics import confusion_matrix"
   ]
  },
  {
   "cell_type": "code",
   "execution_count": null,
   "id": "0226e698-9f58-47ba-8fb1-512b9e6f23fc",
   "metadata": {
    "tags": []
   },
   "outputs": [],
   "source": [
    "mnist = fetch_openml('mnist_784', version=1, as_frame=False, parser='auto')\n",
    "mnist.target = mnist.target.astype(np.uint8)\n",
    "X = mnist[\"data\"]\n",
    "y = mnist[\"target\"]"
   ]
  },
  {
   "cell_type": "code",
   "execution_count": null,
   "id": "e4dfc460-3b56-4c6d-b7e0-11d60a7709e1",
   "metadata": {
    "tags": []
   },
   "outputs": [],
   "source": [
    "km_8 = KMeans(n_clusters=8, n_init=5)\n",
    "y_pred_8 = km_8.fit_predict(X)"
   ]
  },
  {
   "cell_type": "code",
   "execution_count": null,
   "id": "f73d6575-6345-452a-82ce-8b762919f71c",
   "metadata": {
    "tags": []
   },
   "outputs": [],
   "source": [
    "km_9 = KMeans(n_clusters=9, n_init=5)\n",
    "y_pred_9 = km_9.fit_predict(X)"
   ]
  },
  {
   "cell_type": "code",
   "execution_count": null,
   "id": "edc1b035-ff40-4b82-aab0-a08facc4fc22",
   "metadata": {
    "tags": []
   },
   "outputs": [],
   "source": [
    "km_10 = KMeans(n_clusters=10, n_init=5)\n",
    "y_pred_10 = km_10.fit_predict(X)"
   ]
  },
  {
   "cell_type": "code",
   "execution_count": null,
   "id": "8eac5540-f95d-461d-a789-ff3bd44caf5f",
   "metadata": {
    "tags": []
   },
   "outputs": [],
   "source": [
    "km_11 = KMeans(n_clusters=11, n_init=5)\n",
    "y_pred_11 = km_11.fit_predict(X)"
   ]
  },
  {
   "cell_type": "code",
   "execution_count": null,
   "id": "03172e80-a85b-4bfb-a371-c9477221d0ee",
   "metadata": {
    "tags": []
   },
   "outputs": [],
   "source": [
    "km_12 = KMeans(n_clusters=12, n_init=5)\n",
    "y_pred_12 = km_12.fit_predict(X)"
   ]
  },
  {
   "cell_type": "code",
   "execution_count": null,
   "id": "0374464c-09a5-4a60-b7b8-c85c3dab1b0b",
   "metadata": {
    "tags": []
   },
   "outputs": [],
   "source": [
    "silhouettes = []\n",
    "for km in (km_8, km_9, km_10, km_11, km_12):\n",
    "    silhouettes.append(silhouette_score(X, km.labels_))"
   ]
  },
  {
   "cell_type": "code",
   "execution_count": null,
   "id": "77c9a7c0-df30-41b3-aa1d-7210a68847e2",
   "metadata": {},
   "outputs": [],
   "source": [
    "with open('kmeans_sil.pkl', 'wb') as f:\n",
    "    pickle.dump(silhouettes, f)"
   ]
  },
  {
   "cell_type": "code",
   "execution_count": null,
   "id": "5969d67b-ed73-4e71-9239-2b4c695098e6",
   "metadata": {
    "tags": []
   },
   "outputs": [],
   "source": [
    "conf_matrix = confusion_matrix(y, y_pred_10)"
   ]
  },
  {
   "cell_type": "code",
   "execution_count": null,
   "id": "213aa157-99af-4dbc-8cd2-17c9c617c233",
   "metadata": {
    "tags": []
   },
   "outputs": [],
   "source": [
    "s = set()\n",
    "for row in conf_matrix:\n",
    "    s.add(np.argmax(row))\n",
    "l = list(s)"
   ]
  },
  {
   "cell_type": "code",
   "execution_count": null,
   "id": "e178560f-5ccd-4a9e-a48f-decd2548690b",
   "metadata": {
    "tags": []
   },
   "outputs": [],
   "source": [
    "with open('kmeans_argmax.pkl', 'wb') as f:\n",
    "    pickle.dump(l, f)"
   ]
  },
  {
   "cell_type": "code",
   "execution_count": null,
   "id": "3f9112d6-ba67-49b8-a155-32d0b99d0b00",
   "metadata": {
    "tags": []
   },
   "outputs": [],
   "source": [
    "distances = []\n",
    "for i in X[:300]:\n",
    "    for j in X:\n",
    "        if any(i != j):\n",
    "            dist = np.linalg.norm(i-j)\n",
    "            distances.append(dist)"
   ]
  },
  {
   "cell_type": "code",
   "execution_count": null,
   "id": "3cb1de8e-e883-419f-812f-563f07ffec89",
   "metadata": {
    "tags": []
   },
   "outputs": [],
   "source": [
    "distances.sort()"
   ]
  },
  {
   "cell_type": "code",
   "execution_count": null,
   "id": "ca5009c6-1239-4f3d-a6e7-9bd3df4ee661",
   "metadata": {
    "tags": []
   },
   "outputs": [],
   "source": [
    "min_10_dist = distances[:10]"
   ]
  },
  {
   "cell_type": "code",
   "execution_count": null,
   "id": "51442025-741c-46ca-adbe-60abb934fc7f",
   "metadata": {
    "tags": []
   },
   "outputs": [],
   "source": [
    "with open('dist.pkl', 'wb') as f:\n",
    "    pickle.dump(min_10_dist, f)"
   ]
  },
  {
   "cell_type": "code",
   "execution_count": null,
   "id": "0416ef33-7ae7-4dfc-a05a-c0d95c40aaf8",
   "metadata": {
    "tags": []
   },
   "outputs": [],
   "source": [
    "s = mean(distances[:3])"
   ]
  }
 ],
 "metadata": {
  "kernelspec": {
   "display_name": "Python 3 (ipykernel)",
   "language": "python",
   "name": "python3"
  },
  "language_info": {
   "codemirror_mode": {
    "name": "ipython",
    "version": 3
   },
   "file_extension": ".py",
   "mimetype": "text/x-python",
   "name": "python",
   "nbconvert_exporter": "python",
   "pygments_lexer": "ipython3",
   "version": "3.9.16"
  }
 },
 "nbformat": 4,
 "nbformat_minor": 5
}
