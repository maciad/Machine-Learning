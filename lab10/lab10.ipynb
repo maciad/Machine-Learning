{
 "cells": [
  {
   "cell_type": "code",
   "execution_count": null,
   "id": "39b65a99-57a0-405d-881b-96a5af84a692",
   "metadata": {
    "tags": []
   },
   "outputs": [],
   "source": [
    "import tensorflow as tf\n",
    "import time\n",
    "import os\n",
    "import numpy as np\n",
    "import keras\n",
    "import matplotlib.pyplot as plt\n",
    "from sklearn.datasets import fetch_california_housing\n",
    "from sklearn.model_selection import train_test_split\n",
    "from sklearn.preprocessing import StandardScaler"
   ]
  },
  {
   "cell_type": "markdown",
   "id": "bed99e47-5612-4cba-9cba-45a09c392adb",
   "metadata": {},
   "source": [
    "### 1.Klasyfikacja obrazów"
   ]
  },
  {
   "cell_type": "code",
   "execution_count": null,
   "id": "9bc0c1dd-cf0a-467c-8e1b-76bf036754da",
   "metadata": {
    "tags": []
   },
   "outputs": [],
   "source": [
    "fashion_mnist = tf.keras.datasets.fashion_mnist\n",
    "(X_train, y_train), (X_test, y_test) = fashion_mnist.load_data() \n",
    "assert X_train.shape == (60000, 28, 28)\n",
    "assert X_test.shape == (10000, 28, 28)\n",
    "assert y_train.shape == (60000,)\n",
    "assert y_test.shape == (10000,)"
   ]
  },
  {
   "cell_type": "code",
   "execution_count": null,
   "id": "44a4d8eb-b1e6-4f87-bfa0-c4241bb0932f",
   "metadata": {
    "tags": []
   },
   "outputs": [],
   "source": [
    "X_train = X_train / 255\n",
    "X_test = X_test / 255"
   ]
  },
  {
   "cell_type": "code",
   "execution_count": null,
   "id": "10f9666d-8d23-4d19-92b0-41f4901e2028",
   "metadata": {
    "tags": []
   },
   "outputs": [],
   "source": [
    "plt.imshow(X_train[142], cmap=\"binary\") \n",
    "plt.axis('off')\n",
    "plt.show()"
   ]
  },
  {
   "cell_type": "code",
   "execution_count": null,
   "id": "64f2458b-c43e-43ea-9ac4-27c7ee735f80",
   "metadata": {
    "tags": []
   },
   "outputs": [],
   "source": [
    "class_names = [\"koszulka\", \"spodnie\", \"pulower\", \"sukienka\", \"kurtka\",\n",
    "               \"sandał\", \"koszula\", \"but\", \"torba\", \"kozak\"]\n",
    "class_names[y_train[142]]"
   ]
  },
  {
   "cell_type": "code",
   "execution_count": null,
   "id": "e31acac3-1aa3-4203-bb2c-e155c3936811",
   "metadata": {
    "tags": []
   },
   "outputs": [],
   "source": [
    "model = keras.models.Sequential()\n",
    "model.add(keras.layers.Flatten(input_shape=[28, 28]))\n",
    "model.add(keras.layers.Dense(300, activation=\"relu\"))\n",
    "model.add(keras.layers.Dense(100, activation=\"relu\"))\n",
    "model.add(keras.layers.Dense(10, activation=\"softmax\"))"
   ]
  },
  {
   "cell_type": "code",
   "execution_count": null,
   "id": "32c7eaa4-2824-437e-b247-37e552d189da",
   "metadata": {
    "tags": []
   },
   "outputs": [],
   "source": [
    "model.summary()\n",
    "tf.keras.utils.plot_model(model, \"fashion_mnist.png\", show_shapes=True)"
   ]
  },
  {
   "cell_type": "code",
   "execution_count": null,
   "id": "90fc4bd7-c3dd-4a7a-a15c-b8c046ed4330",
   "metadata": {
    "tags": []
   },
   "outputs": [],
   "source": [
    "model.compile(loss='sparse_categorical_crossentropy', \n",
    "              optimizer='sgd',\n",
    "              metrics=['accuracy'])"
   ]
  },
  {
   "cell_type": "code",
   "execution_count": null,
   "id": "a8919d22-2a2d-4d6a-99e5-1f66d6869000",
   "metadata": {
    "tags": []
   },
   "outputs": [],
   "source": [
    "def get_run_logdir(root_logdir): \n",
    "    run_id = time.strftime(\"run_%Y_%m_%d-%H_%M_%S\") \n",
    "    return os.path.join(root_logdir, run_id)"
   ]
  },
  {
   "cell_type": "code",
   "execution_count": null,
   "id": "a970f197-e525-41fa-8789-18a027f26c83",
   "metadata": {
    "tags": []
   },
   "outputs": [],
   "source": [
    "root_logdir = os.path.join(os.curdir, \"image_logs\")\n",
    "run_logdir = get_run_logdir(root_logdir)"
   ]
  },
  {
   "cell_type": "code",
   "execution_count": null,
   "id": "54923b45-85c7-43bc-85f4-33de1964df5e",
   "metadata": {
    "tags": []
   },
   "outputs": [],
   "source": [
    "tensorboard_cb = keras.callbacks.TensorBoard(run_logdir)"
   ]
  },
  {
   "cell_type": "code",
   "execution_count": null,
   "id": "5d25cc4d-ea31-46f6-8792-e0568f4098ef",
   "metadata": {
    "tags": []
   },
   "outputs": [],
   "source": [
    "validation_split = 0.1"
   ]
  },
  {
   "cell_type": "code",
   "execution_count": null,
   "id": "820c4665-669c-44d8-9376-3e79829b26e3",
   "metadata": {
    "tags": []
   },
   "outputs": [],
   "source": [
    "history = model.fit(X_train, y_train, epochs=20,\n",
    "                    validation_split=validation_split,\n",
    "                    callbacks=[tensorboard_cb])"
   ]
  },
  {
   "cell_type": "code",
   "execution_count": null,
   "id": "3f0238cc-c730-4b64-ae1c-7620086643fd",
   "metadata": {
    "tags": []
   },
   "outputs": [],
   "source": [
    "image_index = np.random.randint(len(X_test))\n",
    "image = np.array([X_test[image_index]])\n",
    "confidences = model.predict(image)\n",
    "confidence = np.max(confidences[0])\n",
    "prediction = np.argmax(confidences[0])\n",
    "print(\"Prediction:\", class_names[prediction])\n",
    "print(\"Confidence:\", confidence)\n",
    "print(\"Truth:\", class_names[y_test[image_index]])\n",
    "plt.imshow(image[0], cmap=\"binary\")\n",
    "plt.axis('off')\n",
    "plt.show()"
   ]
  },
  {
   "cell_type": "code",
   "execution_count": null,
   "id": "e4824f0f-69d1-42bd-ac10-f74cfb5b8060",
   "metadata": {},
   "outputs": [],
   "source": [
    "model.save('fashion_clf.h5')"
   ]
  },
  {
   "cell_type": "markdown",
   "id": "1858feac-4267-43f8-8a97-a49846c6c126",
   "metadata": {},
   "source": [
    "### 2.Regresja"
   ]
  },
  {
   "cell_type": "markdown",
   "id": "d61ea74e-ee09-450a-84b3-6dc83a43830a",
   "metadata": {},
   "source": [
    "#### Dane"
   ]
  },
  {
   "cell_type": "code",
   "execution_count": null,
   "id": "dcbc6a56-918a-4b86-bf7a-5d0aaa9eb121",
   "metadata": {},
   "outputs": [],
   "source": [
    "housing = fetch_california_housing()"
   ]
  },
  {
   "cell_type": "code",
   "execution_count": null,
   "id": "5d58d3a5-fc4e-49f6-871d-8ab03854cbce",
   "metadata": {},
   "outputs": [],
   "source": [
    "X_train2, X_test2, y_train2, y_test2 = train_test_split(housing.data, housing.target, test_size=0.2)\n",
    "X_train2, X_valid2, y_train2, y_valid2 = train_test_split(X_train2, y_train2, test_size=0.2)"
   ]
  },
  {
   "cell_type": "code",
   "execution_count": null,
   "id": "3ce705c0-d12d-4be5-82f8-6d35e1167f48",
   "metadata": {},
   "outputs": [],
   "source": [
    "scaler = StandardScaler()\n",
    "X_train2 = scaler.fit_transform(X_train2)\n",
    "X_valid2 = scaler.transform(X_valid2)\n",
    "X_test2 = scaler.transform(X_test2)"
   ]
  },
  {
   "cell_type": "markdown",
   "id": "d33c8510-3dbf-46a9-9b54-d1f5c04396c9",
   "metadata": {},
   "source": [
    "#### Model 1"
   ]
  },
  {
   "cell_type": "code",
   "execution_count": null,
   "id": "07cd7b18-3d1a-46b4-8a03-6ffe1bc31eae",
   "metadata": {},
   "outputs": [],
   "source": [
    "model2 = tf.keras.models.Sequential()\n",
    "model2.add(tf.keras.layers.Dense(30, activation='relu', input_shape=(X_train2.shape[1],)))\n",
    "model2.add(tf.keras.layers.Dense(1))"
   ]
  },
  {
   "cell_type": "code",
   "execution_count": null,
   "id": "1a41876b-30f7-4f32-8ecd-2cc92871add8",
   "metadata": {},
   "outputs": [],
   "source": [
    "model2.compile(loss='mean_squared_error', optimizer='sgd')"
   ]
  },
  {
   "cell_type": "code",
   "execution_count": null,
   "id": "3e1b4531-9343-4f29-9d25-e6418c1c741b",
   "metadata": {},
   "outputs": [],
   "source": [
    "early_stopping = tf.keras.callbacks.EarlyStopping(patience=5, min_delta=0.01, verbose=1)"
   ]
  },
  {
   "cell_type": "code",
   "execution_count": null,
   "id": "7b54c7e8-d6d1-41b1-8968-16142e5315e2",
   "metadata": {},
   "outputs": [],
   "source": [
    "root_logdir = os.path.join(os.curdir, \"housing_logs\")\n",
    "run_logdir = get_run_logdir(root_logdir)\n",
    "tensorboard_callback = tf.keras.callbacks.TensorBoard(run_logdir)"
   ]
  },
  {
   "cell_type": "code",
   "execution_count": null,
   "id": "9cf967f9-9b08-4a08-8145-d5a197a47880",
   "metadata": {
    "tags": []
   },
   "outputs": [],
   "source": [
    "history = model2.fit(X_train2,\n",
    "                    y_train2,\n",
    "                    validation_data=(X_valid2, y_valid2),\n",
    "                    epochs=100,\n",
    "                    callbacks=[early_stopping, tensorboard_callback])"
   ]
  },
  {
   "cell_type": "code",
   "execution_count": null,
   "id": "a6d66708-7a78-429b-aa99-974558027e4a",
   "metadata": {},
   "outputs": [],
   "source": [
    "model2.save('reg_housing_1.h5')"
   ]
  },
  {
   "cell_type": "code",
   "execution_count": null,
   "id": "a1d4b022-96fb-48de-8e91-b7d9ac9f7bf3",
   "metadata": {},
   "outputs": [],
   "source": [
    "mse = model2.evaluate(X_test2, y_test2)\n",
    "print(\"MSE on test set:\", mse)"
   ]
  },
  {
   "cell_type": "markdown",
   "id": "1e940e9e-d45c-4644-95b6-1e94f6170238",
   "metadata": {},
   "source": [
    "#### Model 2"
   ]
  },
  {
   "cell_type": "code",
   "execution_count": null,
   "id": "027de682-40d8-48b5-9c23-d3f8e77f5d4f",
   "metadata": {},
   "outputs": [],
   "source": [
    "model3 = tf.keras.models.Sequential()\n",
    "model3.add(tf.keras.layers.Dense(100, activation='relu', input_shape=(X_train2.shape[1],)))\n",
    "model3.add(tf.keras.layers.Dense(100, activation='relu'))\n",
    "model3.add(tf.keras.layers.Dense(1))"
   ]
  },
  {
   "cell_type": "code",
   "execution_count": null,
   "id": "93614705-bdac-4b7c-9b51-2c616256cab7",
   "metadata": {},
   "outputs": [],
   "source": [
    "model3.compile(loss='mean_squared_error', optimizer='sgd')"
   ]
  },
  {
   "cell_type": "code",
   "execution_count": null,
   "id": "e140b67f-5687-4cd2-8e3f-714c3154c445",
   "metadata": {},
   "outputs": [],
   "source": [
    "root_logdir = os.path.join(os.curdir, \"housing_logs\")\n",
    "run_logdir = get_run_logdir(root_logdir)\n",
    "tensorboard_callback = tf.keras.callbacks.TensorBoard(run_logdir)"
   ]
  },
  {
   "cell_type": "code",
   "execution_count": null,
   "id": "917a7aee-3641-425b-bb05-5bb9f32fc7a0",
   "metadata": {
    "tags": []
   },
   "outputs": [],
   "source": [
    "history = model3.fit(X_train2,\n",
    "                    y_train2,\n",
    "                    validation_data=(X_valid2, y_valid2),\n",
    "                    epochs=100,\n",
    "                    callbacks=[early_stopping, tensorboard_callback])"
   ]
  },
  {
   "cell_type": "code",
   "execution_count": null,
   "id": "c98f8de5-189d-416b-bb44-290b7df7215d",
   "metadata": {},
   "outputs": [],
   "source": [
    "model3.save('reg_housing_2.h5')"
   ]
  },
  {
   "cell_type": "markdown",
   "id": "3af60547-83d2-4658-a799-7fa375fea324",
   "metadata": {},
   "source": [
    "#### Model 3"
   ]
  },
  {
   "cell_type": "code",
   "execution_count": null,
   "id": "b8bc747f-5cf0-4a6e-8130-ef0a7e095b23",
   "metadata": {},
   "outputs": [],
   "source": [
    "model4 = tf.keras.models.Sequential()\n",
    "model4.add(tf.keras.layers.Dense(20, activation='relu', input_shape=(X_train2.shape[1],)))\n",
    "model4.add(tf.keras.layers.Dense(20, activation='relu'))\n",
    "model4.add(tf.keras.layers.Dense(50, activation='relu'))\n",
    "model4.add(tf.keras.layers.Dense(50, activation='relu'))\n",
    "model4.add(tf.keras.layers.Dense(1))"
   ]
  },
  {
   "cell_type": "code",
   "execution_count": null,
   "id": "ae9f038e-0f39-4502-855f-dc0ee323717d",
   "metadata": {},
   "outputs": [],
   "source": [
    "model4.compile(loss='mean_squared_error', optimizer='sgd')"
   ]
  },
  {
   "cell_type": "code",
   "execution_count": null,
   "id": "b52b3f65-78d4-48d1-a939-555098cbbe13",
   "metadata": {},
   "outputs": [],
   "source": [
    "root_logdir = os.path.join(os.curdir, \"housing_logs\")\n",
    "run_logdir = get_run_logdir(root_logdir)\n",
    "tensorboard_callback = tf.keras.callbacks.TensorBoard(run_logdir)"
   ]
  },
  {
   "cell_type": "code",
   "execution_count": null,
   "id": "9ecfd4fa-2c75-4fd2-a630-14bbfb0c1758",
   "metadata": {},
   "outputs": [],
   "source": [
    "history = model4.fit(X_train2,\n",
    "                    y_train2,\n",
    "                    validation_data=(X_valid2, y_valid2),\n",
    "                    epochs=100,\n",
    "                    callbacks=[early_stopping, tensorboard_callback])"
   ]
  },
  {
   "cell_type": "code",
   "execution_count": null,
   "id": "65e52248-5bf1-4570-8547-d22f58d977e8",
   "metadata": {},
   "outputs": [],
   "source": [
    "model4.save('reg_housing_3.h5')"
   ]
  }
 ],
 "metadata": {
  "kernelspec": {
   "display_name": "Python 3 (ipykernel)",
   "language": "python",
   "name": "python3"
  },
  "language_info": {
   "codemirror_mode": {
    "name": "ipython",
    "version": 3
   },
   "file_extension": ".py",
   "mimetype": "text/x-python",
   "name": "python",
   "nbconvert_exporter": "python",
   "pygments_lexer": "ipython3",
   "version": "3.9.16"
  }
 },
 "nbformat": 4,
 "nbformat_minor": 5
}
