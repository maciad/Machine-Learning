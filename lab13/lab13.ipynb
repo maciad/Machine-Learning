{
 "cells": [
  {
   "cell_type": "code",
   "execution_count": null,
   "id": "f0f5c115-b4df-43dc-b768-a4ccce9da2d2",
   "metadata": {},
   "outputs": [],
   "source": [
    "import pickle\n",
    "import pandas as pd\n",
    "import tensorflow as tf"
   ]
  },
  {
   "cell_type": "markdown",
   "id": "7ccc7d78-911d-4020-a5b0-eca9de96d7b1",
   "metadata": {},
   "source": [
    "### 2.1 Pobieranie danych"
   ]
  },
  {
   "cell_type": "code",
   "execution_count": null,
   "id": "4de0f643-eed4-4dd0-8868-02612a6606c8",
   "metadata": {},
   "outputs": [],
   "source": [
    "tf.keras.utils.get_file(\n",
    "\"bike_sharing_dataset.zip\",\n",
    "\"https://archive.ics.uci.edu/static/public/275/bike+sharing+dataset.zip\",\n",
    "cache_dir=\".\",\n",
    "extract=True\n",
    ")"
   ]
  },
  {
   "cell_type": "markdown",
   "id": "093e7b09-d4ed-44bd-81b9-cb62a246039a",
   "metadata": {},
   "source": [
    "### 2.2 Przygotowanie danych"
   ]
  },
  {
   "cell_type": "code",
   "execution_count": null,
   "id": "cfea4ae0-1dc9-47ba-91c1-613f40ec48a5",
   "metadata": {},
   "outputs": [],
   "source": [
    "df = pd.read_csv('datasets/hour.csv',\n",
    "                 parse_dates={'datetime': ['dteday', 'hr']},\n",
    "                 date_format='%Y-%m-%d %H',\n",
    "                 index_col='datetime')"
   ]
  },
  {
   "cell_type": "code",
   "execution_count": null,
   "id": "1d7e7f7f-f5a2-464f-87a6-86c716c9940e",
   "metadata": {},
   "outputs": [],
   "source": [
    "df = df[['casual', 'registered', 'cnt', 'temp', 'atemp', 'hum', 'windspeed', 'holiday', 'weekday', 'workingday', 'weathersit']]"
   ]
  },
  {
   "cell_type": "code",
   "execution_count": null,
   "id": "6726c4b8-80db-4dbb-8706-3546fe35567b",
   "metadata": {},
   "outputs": [],
   "source": [
    "df = df.asfreq('h')"
   ]
  },
  {
   "cell_type": "code",
   "execution_count": null,
   "id": "34a23a4b-dfcc-46cd-b492-c17f75a105ed",
   "metadata": {},
   "outputs": [],
   "source": [
    "df[['casual', 'registered', 'cnt']] = df[['casual', 'registered', 'cnt']].fillna(0)\n",
    "df[['temp', 'atemp', 'hum', 'windspeed']] = df[['temp', 'atemp', 'hum', 'windspeed']].interpolate()\n",
    "df[['holiday', 'weekday', 'workingday', 'weathersit']] = df[['holiday', 'weekday', 'workingday', 'weathersit']].ffill()"
   ]
  },
  {
   "cell_type": "code",
   "execution_count": null,
   "id": "2cea5104-9850-49c2-af09-042186ed783b",
   "metadata": {},
   "outputs": [],
   "source": [
    "df.notna().sum()"
   ]
  },
  {
   "cell_type": "code",
   "execution_count": null,
   "id": "dd70d951-a5a7-4342-b18e-f7dd492dd8ac",
   "metadata": {},
   "outputs": [],
   "source": [
    "df[['casual', 'registered', 'cnt', 'weathersit']].describe()"
   ]
  },
  {
   "cell_type": "code",
   "execution_count": null,
   "id": "3c1c3429-df21-461b-b8af-c7c500340614",
   "metadata": {},
   "outputs": [],
   "source": [
    "df.casual /= 1e3\n",
    "df.registered /= 1e3\n",
    "df.cnt /= 1e3\n",
    "df.weathersit /= 4"
   ]
  },
  {
   "cell_type": "code",
   "execution_count": null,
   "id": "4d828e96-937c-4042-8f27-b4f7816bdb44",
   "metadata": {
    "tags": []
   },
   "outputs": [],
   "source": [
    "df_2weeks = df[:24 * 7 * 2]\n",
    "df_2weeks[['casual', 'registered', 'cnt', 'temp']].plot(figsize=(10, 3))"
   ]
  },
  {
   "cell_type": "code",
   "execution_count": null,
   "id": "5b5af1b9-107f-423f-8543-e3ab7fd857bb",
   "metadata": {
    "tags": []
   },
   "outputs": [],
   "source": [
    "df_daily = df.resample('W').mean()\n",
    "df_daily[['casual', 'registered', 'cnt', 'temp']].plot(figsize=(10, 3))\n"
   ]
  },
  {
   "cell_type": "markdown",
   "id": "2dfce11b-6194-4ef4-aa2b-88b208317d20",
   "metadata": {},
   "source": [
    "### 2.3 Wskaźniki bazowe"
   ]
  },
  {
   "cell_type": "code",
   "execution_count": null,
   "id": "006e4d92-922f-49a2-a7c7-a1a10513b5ca",
   "metadata": {},
   "outputs": [],
   "source": [
    "df_sh_d = df['cnt'].shift(24)\n",
    "df_sh_w = df['cnt'].shift(24*7)"
   ]
  },
  {
   "cell_type": "code",
   "execution_count": null,
   "id": "b0e476c4-dbc4-4852-8bd3-c789f6c8d5ad",
   "metadata": {},
   "outputs": [],
   "source": [
    "mae_daily = (df['cnt'] - df_sh_d).abs().mean() * 1e3\n",
    "mae_weekly = (df['cnt'] - df_sh_w).abs().mean() * 1e3"
   ]
  },
  {
   "cell_type": "code",
   "execution_count": null,
   "id": "a9423856-7f95-43d1-adcf-877e2044c259",
   "metadata": {},
   "outputs": [],
   "source": [
    "with open('mae_baseline.pkl', 'wb') as f:\n",
    "    pickle.dump((mae_daily, mae_weekly), f)"
   ]
  },
  {
   "cell_type": "markdown",
   "id": "dd09c9f8-0831-433d-950b-9bc29a169755",
   "metadata": {},
   "source": [
    "### 2.4 Predykcja przy pomocy sieci gęstej"
   ]
  },
  {
   "cell_type": "code",
   "execution_count": null,
   "id": "25f0ab2f-e664-478c-9c89-8aec034ba8e3",
   "metadata": {},
   "outputs": [],
   "source": [
    "cnt_train = df['cnt']['2011-01-01 00:00':'2012-06-30 23:00']\n",
    "cnt_valid = df['cnt']['2012-07-01 00:00':]"
   ]
  },
  {
   "cell_type": "code",
   "execution_count": null,
   "id": "4a355336-b06e-4da4-b346-5766191830d5",
   "metadata": {},
   "outputs": [],
   "source": [
    "seq_len = 1 * 24\n",
    "\n",
    "train_ds = tf.keras.utils.timeseries_dataset_from_array(\n",
    "    cnt_train.to_numpy(),\n",
    "    targets=cnt_train[seq_len:],\n",
    "    sequence_length=seq_len,\n",
    "    batch_size=32,\n",
    "    shuffle=True,\n",
    "    seed=42\n",
    ")\n",
    "\n",
    "valid_ds = tf.keras.utils.timeseries_dataset_from_array(\n",
    "    cnt_valid.to_numpy(),\n",
    "    targets=cnt_valid[seq_len:],\n",
    "    sequence_length=seq_len,\n",
    "    batch_size=32\n",
    ")"
   ]
  },
  {
   "cell_type": "code",
   "execution_count": null,
   "id": "73ab736e-10f7-4801-894b-76b853593f43",
   "metadata": {},
   "outputs": [],
   "source": [
    "model = tf.keras.Sequential([\n",
    "tf.keras.layers.Dense(1, input_shape=[seq_len])\n",
    "])\n"
   ]
  },
  {
   "cell_type": "code",
   "execution_count": null,
   "id": "d3e39643-aa34-4003-bddf-408046d4ef67",
   "metadata": {},
   "outputs": [],
   "source": [
    "optimizer = tf.keras.optimizers.SGD(learning_rate=0.1, momentum=0.9)\n",
    "loss = tf.keras.losses.Huber(delta=1.0)"
   ]
  },
  {
   "cell_type": "code",
   "execution_count": null,
   "id": "cabbf082-cba2-45ea-98aa-5cccad634920",
   "metadata": {},
   "outputs": [],
   "source": [
    "model.compile(optimizer=optimizer,\n",
    "              loss=loss, \n",
    "              metrics=['mae']\n",
    ")"
   ]
  },
  {
   "cell_type": "code",
   "execution_count": null,
   "id": "67fb00cb-bf61-4290-aed7-dbe65ece5a82",
   "metadata": {
    "tags": []
   },
   "outputs": [],
   "source": [
    "history = model.fit(train_ds,\n",
    "                    validation_data=valid_ds,\n",
    "                    epochs=20,\n",
    "                    batch_size=32)"
   ]
  },
  {
   "cell_type": "code",
   "execution_count": null,
   "id": "2c77befe-ba27-4c23-a800-5c054b00957d",
   "metadata": {},
   "outputs": [],
   "source": [
    "val_loss, val_mae = model.evaluate(valid_ds)"
   ]
  },
  {
   "cell_type": "code",
   "execution_count": null,
   "id": "a820d42c-541a-4914-8ecc-c5fa1865c731",
   "metadata": {},
   "outputs": [],
   "source": [
    "with open('mae_linear.pkl', 'wb') as f:\n",
    "    pickle.dump((val_mae,), f)\n",
    "    \n",
    "model.save('model_linear.h5')"
   ]
  },
  {
   "cell_type": "markdown",
   "id": "38599548-dae7-4500-8118-51a1e73c85a3",
   "metadata": {},
   "source": [
    "### 2.5 Prosta sieć rekurencyjna"
   ]
  },
  {
   "cell_type": "code",
   "execution_count": null,
   "id": "6de7b6c3-3988-4530-8492-47253a4a8db7",
   "metadata": {},
   "outputs": [],
   "source": [
    "model2 = tf.keras.Sequential([\n",
    "    tf.keras.layers.SimpleRNN(1, input_shape=[None, 1])\n",
    "])"
   ]
  },
  {
   "cell_type": "code",
   "execution_count": null,
   "id": "db332101-59a3-45ff-9641-74bee8881043",
   "metadata": {},
   "outputs": [],
   "source": [
    "optimizer2 = tf.keras.optimizers.Adam(learning_rate=0.005)"
   ]
  },
  {
   "cell_type": "code",
   "execution_count": null,
   "id": "ac560140-9fd0-4d14-a1d9-e33c7bdd0e85",
   "metadata": {},
   "outputs": [],
   "source": [
    "model2.compile(optimizer=optimizer2,\n",
    "              loss='mean_squared_error',\n",
    "              metrics=['mae']\n",
    ")"
   ]
  },
  {
   "cell_type": "code",
   "execution_count": null,
   "id": "15bd6840-aa31-4ad4-80c1-3e0cae19126f",
   "metadata": {
    "tags": []
   },
   "outputs": [],
   "source": [
    "history2 = model2.fit(train_ds,\n",
    "                      validation_data=valid_ds,\n",
    "                      epochs=20,\n",
    "                      batch_size=32)"
   ]
  },
  {
   "cell_type": "code",
   "execution_count": null,
   "id": "38c41f3c-f790-4a46-b70a-46b561172fb7",
   "metadata": {},
   "outputs": [],
   "source": [
    "val_loss2, val_mae2 = model2.evaluate(valid_ds)"
   ]
  },
  {
   "cell_type": "code",
   "execution_count": null,
   "id": "7066d353-9e8c-48aa-a42a-c6a181e552d7",
   "metadata": {},
   "outputs": [],
   "source": [
    "with open('mae_rnn1.pkl', 'wb') as f:\n",
    "    pickle.dump((val_mae2,), f)\n",
    "    \n",
    "model2.save('model_rnn1.h5')"
   ]
  },
  {
   "cell_type": "code",
   "execution_count": null,
   "id": "b776d7e7-0bf6-401b-bff6-4e68cd10f496",
   "metadata": {},
   "outputs": [],
   "source": [
    "model3 = tf.keras.Sequential([\n",
    "    tf.keras.layers.SimpleRNN(32, input_shape=[None, 1]),\n",
    "    tf.keras.layers.Dense(1)\n",
    "])"
   ]
  },
  {
   "cell_type": "code",
   "execution_count": null,
   "id": "11c2fb71-cb6c-42d1-8d3f-a38cdbbe0be3",
   "metadata": {},
   "outputs": [],
   "source": [
    "model3.compile(optimizer='adam',\n",
    "               loss='mean_squared_error',\n",
    "               metrics=['mae']\n",
    ")"
   ]
  },
  {
   "cell_type": "code",
   "execution_count": null,
   "id": "189065f2-82ae-4f44-8417-07016398c33c",
   "metadata": {
    "tags": []
   },
   "outputs": [],
   "source": [
    "history3 = model3.fit(train_ds,\n",
    "                      validation_data=valid_ds,\n",
    "                      epochs=20,\n",
    "                      batch_size=32)"
   ]
  },
  {
   "cell_type": "code",
   "execution_count": null,
   "id": "da57454b-1e90-4bfc-9a31-2a1e7cc1babe",
   "metadata": {},
   "outputs": [],
   "source": [
    "val_loss3, val_mae3 = model3.evaluate(valid_ds)"
   ]
  },
  {
   "cell_type": "code",
   "execution_count": null,
   "id": "bb626884-181f-451d-a777-3256dc38f80d",
   "metadata": {},
   "outputs": [],
   "source": [
    "with open('mae_rnn32.pkl', 'wb') as f:\n",
    "    pickle.dump((val_mae3,), f)\n",
    "    \n",
    "model3.save('model_rnn32.h5')"
   ]
  },
  {
   "cell_type": "markdown",
   "id": "0aabe2ec-e12e-41fd-8bf5-160276674463",
   "metadata": {},
   "source": [
    "### 2.6 Głęboka RNN"
   ]
  },
  {
   "cell_type": "code",
   "execution_count": null,
   "id": "25368308-0da0-4fd8-a342-57fa148027cd",
   "metadata": {},
   "outputs": [],
   "source": [
    "model4 = tf.keras.Sequential([\n",
    "    tf.keras.layers.SimpleRNN(32, input_shape=[None, 1], return_sequences=True),\n",
    "    tf.keras.layers.SimpleRNN(32, input_shape=[None, 1], return_sequences=True),\n",
    "    tf.keras.layers.SimpleRNN(32, input_shape=[None, 1]),\n",
    "    tf.keras.layers.Dense(1)\n",
    "])"
   ]
  },
  {
   "cell_type": "code",
   "execution_count": null,
   "id": "22ccab90-5b96-4828-8ca8-ac4f9ec804fb",
   "metadata": {},
   "outputs": [],
   "source": [
    "model4.compile(optimizer='adam',\n",
    "               loss='mean_squared_error',\n",
    "               metrics=['mae']\n",
    ")"
   ]
  },
  {
   "cell_type": "code",
   "execution_count": null,
   "id": "84845ea6-e7dc-49a4-9cc6-cbf9fa789802",
   "metadata": {
    "tags": []
   },
   "outputs": [],
   "source": [
    "history4 = model4.fit(train_ds,\n",
    "                      validation_data=valid_ds,\n",
    "                      epochs=20,\n",
    "                      batch_size=32)"
   ]
  },
  {
   "cell_type": "code",
   "execution_count": null,
   "id": "aa3bd417-70bf-4751-987e-94f309c97c31",
   "metadata": {},
   "outputs": [],
   "source": [
    "val_loss4, val_mae4 = model4.evaluate(valid_ds)"
   ]
  },
  {
   "cell_type": "code",
   "execution_count": null,
   "id": "f20bc126-372d-44be-9d4f-823e726f456e",
   "metadata": {},
   "outputs": [],
   "source": [
    "with open('mae_rnn_deep.pkl', 'wb') as f:\n",
    "    pickle.dump((val_mae4,), f)\n",
    "    \n",
    "model4.save('model_rnn_deep.h5')"
   ]
  },
  {
   "cell_type": "markdown",
   "id": "ebfbf1ef-15d1-4ffc-9de7-4d49b3671125",
   "metadata": {},
   "source": [
    "### 2.7 Model wielowymiarowy"
   ]
  },
  {
   "cell_type": "code",
   "execution_count": null,
   "id": "c4d75fe1-fc24-4f6f-baa1-19836253cf2f",
   "metadata": {},
   "outputs": [],
   "source": [
    "cnt_train2 = df[['cnt', 'weathersit', 'atemp', 'workingday']]['2011-01-01 00:00':'2012-06-30 23:00']\n",
    "cnt_valid2 = df[['cnt', 'weathersit', 'atemp', 'workingday']]['2012-07-01 00:00':]"
   ]
  },
  {
   "cell_type": "code",
   "execution_count": null,
   "id": "ddff5d63-1795-4e36-ba05-ca592a299fd6",
   "metadata": {},
   "outputs": [],
   "source": [
    "seq_len = 1 * 24\n",
    "\n",
    "train_ds2 = tf.keras.utils.timeseries_dataset_from_array(\n",
    "    cnt_train2.to_numpy(),\n",
    "    targets=cnt_train2['cnt'][seq_len:],\n",
    "    sequence_length=seq_len,\n",
    "    batch_size=32,\n",
    "    shuffle=True,\n",
    "    seed=42\n",
    ")\n",
    "\n",
    "valid_ds2 = tf.keras.utils.timeseries_dataset_from_array(\n",
    "    cnt_valid2.to_numpy(),\n",
    "    targets=cnt_valid2['cnt'][seq_len:],\n",
    "    sequence_length=seq_len,\n",
    "    batch_size=32\n",
    ")"
   ]
  },
  {
   "cell_type": "code",
   "execution_count": null,
   "id": "0a22911b-aafb-449c-bd2e-aea716ac6049",
   "metadata": {},
   "outputs": [],
   "source": [
    "model5 = tf.keras.Sequential([\n",
    "    tf.keras.layers.SimpleRNN(32, input_shape=[None, 4]),\n",
    "    tf.keras.layers.Dense(1)\n",
    "])"
   ]
  },
  {
   "cell_type": "code",
   "execution_count": null,
   "id": "d187c7b0-caac-4c29-ad96-d2adab937ef6",
   "metadata": {},
   "outputs": [],
   "source": [
    "model5.compile(optimizer='adam',\n",
    "               loss='mean_squared_error',\n",
    "               metrics=['mae']\n",
    ")"
   ]
  },
  {
   "cell_type": "code",
   "execution_count": null,
   "id": "84ab424a-f684-4381-a06b-d4c8b4624201",
   "metadata": {
    "tags": []
   },
   "outputs": [],
   "source": [
    "history5 = model5.fit(train_ds2,\n",
    "                      validation_data=valid_ds2,\n",
    "                      epochs=20,\n",
    "                      batch_size=32)"
   ]
  },
  {
   "cell_type": "code",
   "execution_count": null,
   "id": "3146e434-9efe-4474-acbc-b701bf187db3",
   "metadata": {},
   "outputs": [],
   "source": [
    "val_loss5, val_mae5 = model5.evaluate(valid_ds2)"
   ]
  },
  {
   "cell_type": "code",
   "execution_count": null,
   "id": "0bb4ab1b-7c92-4473-a857-5092969193c4",
   "metadata": {},
   "outputs": [],
   "source": [
    "with open('mae_rnn_mv.pkl', 'wb') as f:\n",
    "    pickle.dump((val_mae5,), f)\n",
    "    \n",
    "model5.save('model_rnn_mv.h5')"
   ]
  }
 ],
 "metadata": {
  "kernelspec": {
   "display_name": "Python 3 (ipykernel)",
   "language": "python",
   "name": "python3"
  },
  "language_info": {
   "codemirror_mode": {
    "name": "ipython",
    "version": 3
   },
   "file_extension": ".py",
   "mimetype": "text/x-python",
   "name": "python",
   "nbconvert_exporter": "python",
   "pygments_lexer": "ipython3",
   "version": "3.9.16"
  }
 },
 "nbformat": 4,
 "nbformat_minor": 5
}
